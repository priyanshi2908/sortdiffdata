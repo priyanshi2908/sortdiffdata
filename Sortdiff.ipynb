{
  "nbformat": 4,
  "nbformat_minor": 0,
  "metadata": {
    "colab": {
      "provenance": [],
      "authorship_tag": "ABX9TyNzWLbIkYaeMXOKPapcafpE",
      "include_colab_link": true
    },
    "kernelspec": {
      "name": "python3",
      "display_name": "Python 3"
    },
    "language_info": {
      "name": "python"
    }
  },
  "cells": [
    {
      "cell_type": "markdown",
      "metadata": {
        "id": "view-in-github",
        "colab_type": "text"
      },
      "source": [
        "<a href=\"https://colab.research.google.com/github/priyanshi2908/sortdiffdata/blob/main/Sortdiff.ipynb\" target=\"_parent\"><img src=\"https://colab.research.google.com/assets/colab-badge.svg\" alt=\"Open In Colab\"/></a>"
      ]
    },
    {
      "cell_type": "code",
      "execution_count": 5,
      "metadata": {
        "colab": {
          "base_uri": "https://localhost:8080/"
        },
        "id": "4_1mAX3QrRkP",
        "outputId": "98829fc4-c6a4-4de9-ebc8-ebb2caf87074"
      },
      "outputs": [
        {
          "output_type": "stream",
          "name": "stdout",
          "text": [
            "['1', '2', '3', 'Aman', 'Ram', 'Shyam']\n"
          ]
        }
      ],
      "source": [
        "l=[\"Ram\",1,\"Shyam\",2,\"Aman\",3]\n",
        "l=[str(i) for i in l]\n",
        "\n",
        "l.sort()\n",
        "print(l)\n"
      ]
    }
  ]
}